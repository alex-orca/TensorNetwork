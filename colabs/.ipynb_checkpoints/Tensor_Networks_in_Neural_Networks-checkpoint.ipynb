{
 "cells": [
  {
   "cell_type": "markdown",
   "metadata": {
    "colab_type": "text",
    "id": "8XnVMPBXmtRa"
   },
   "source": [
    "# TensorNetworks in Neural Networks.\n",
    "\n",
    "Here, we have a small toy example of how to use a TN inside of a fully connected neural network.\n",
    "\n",
    "First off, let's install tensornetwork"
   ]
  },
  {
   "cell_type": "code",
   "execution_count": 12,
   "metadata": {
    "colab": {
     "base_uri": "https://localhost:8080/",
     "height": 423
    },
    "colab_type": "code",
    "id": "7HGRsYNAFxME",
    "outputId": "9189982e-51fe-4bb3-9124-2f01a3c933c8"
   },
   "outputs": [
    {
     "name": "stdout",
     "output_type": "stream",
     "text": [
      "Requirement already satisfied: tensornetwork in /home/alexdzm/anaconda3/lib/python3.9/site-packages (0.4.6)\r\n",
      "Requirement already satisfied: graphviz>=0.11.1 in /home/alexdzm/anaconda3/lib/python3.9/site-packages (from tensornetwork) (0.20)\r\n",
      "Requirement already satisfied: numpy>=1.17 in /home/alexdzm/anaconda3/lib/python3.9/site-packages (from tensornetwork) (1.20.3)\r\n",
      "Requirement already satisfied: h5py>=2.9.0 in /home/alexdzm/anaconda3/lib/python3.9/site-packages (from tensornetwork) (3.3.0)\r\n",
      "Requirement already satisfied: opt-einsum>=2.3.0 in /home/alexdzm/anaconda3/lib/python3.9/site-packages (from tensornetwork) (3.3.0)\r\n",
      "Requirement already satisfied: scipy>=1.1 in /home/alexdzm/anaconda3/lib/python3.9/site-packages (from tensornetwork) (1.7.3)\r\n"
     ]
    }
   ],
   "source": [
    "!pip install tensornetwork\n",
    "\n",
    "import numpy as np\n",
    "import matplotlib.pyplot as plt\n",
    "import tensorflow as tf\n",
    "# Import tensornetwork\n",
    "import tensornetwork as tn\n",
    "# Set the backend to tesorflow\n",
    "# (default is numpy)\n",
    "tn.set_default_backend(\"pytorch\")\n",
    "\n",
    "import torch.nn as nn\n",
    "import torch"
   ]
  },
  {
   "cell_type": "markdown",
   "metadata": {
    "colab_type": "text",
    "id": "g1OMCo5XmrYu"
   },
   "source": [
    "# TensorNetwork layer definition\n",
    "\n",
    "Here, we define the TensorNetwork layer we wish to use to replace the fully connected layer. Here, we simply use a 2 node Matrix Product Operator network to replace the normal dense weight matrix.\n",
    "\n",
    "We TensorNetwork's NCon API to keep the code short."
   ]
  },
  {
   "cell_type": "code",
   "execution_count": 48,
   "metadata": {
    "colab": {},
    "colab_type": "code",
    "id": "wvSMKtPufnLp"
   },
   "outputs": [],
   "source": [
    "class TNLayer(nn.Module):\n",
    "\n",
    "  def __init__(self):\n",
    "    super(TNLayer, self).__init__()\n",
    "    # Create the variables for the layer.\n",
    "    self.a_var = nn.Parameter(torch.normal(mean=torch.zeros(32, 32, 2),\n",
    "                                              std=torch.ones(32, 32, 2)*1.0/32.0))\n",
    "    self.b_var = nn.Parameter(torch.normal(mean=torch.zeros(32, 32, 2),\n",
    "                                              std=torch.ones(32, 32, 2)*1.0/32.0))\n",
    "    self.bias = nn.Parameter(torch.zeros(32, 32))\n",
    "\n",
    "  def forward(self, input_vec):\n",
    "    # Define the contraction.\n",
    "    # We break it out so we can parallelize a batch using\n",
    "    # tf.vectorized_map (see below).\n",
    "\n",
    "    # Reshape to a matrix instead of a vector.\n",
    "    input_vec = torch.reshape(input_vec, (32, 32))\n",
    "\n",
    "    # Now we create the network.\n",
    "    a = tn.Node(self.a_var)\n",
    "    b = tn.Node(self.b_var)\n",
    "    x_node = tn.Node(input_vec)\n",
    "    a[1] ^ x_node[0]\n",
    "    b[1] ^ x_node[1]\n",
    "    a[2] ^ b[2]\n",
    "\n",
    "    # The TN should now look like this\n",
    "    #   |     |\n",
    "    #   a --- b\n",
    "    #    \\   /\n",
    "    #      x\n",
    "\n",
    "    # Now we begin the contraction.\n",
    "    c = a @ x_node\n",
    "    result = (c @ b).tensor\n",
    "\n",
    "    # To make the code shorter, we also could've used Ncon.\n",
    "    # The above few lines of code is the same as this:\n",
    "    # result = tn.ncon([x, a_var, b_var], [[1, 2], [-1, 1, 3], [-2, 2, 3]])\n",
    "\n",
    "    # Finally, add bias.\n",
    "    return result + self.bias_var\n",
    "\n"
   ]
  },
  {
   "cell_type": "markdown",
   "metadata": {
    "colab_type": "text",
    "id": "V-CVqIhPnhY_"
   },
   "source": [
    "# Smaller model\n",
    "These two models are effectively the same, but notice how the TN layer has nearly 10x fewer parameters."
   ]
  },
  {
   "cell_type": "code",
   "execution_count": 9,
   "metadata": {
    "colab": {
     "base_uri": "https://localhost:8080/",
     "height": 255
    },
    "colab_type": "code",
    "id": "XPBvnB95jg4b",
    "outputId": "4baa5bda-6077-4d66-ee42-48a894a68966"
   },
   "outputs": [
    {
     "name": "stdout",
     "output_type": "stream",
     "text": [
      "Model: \"sequential_2\"\n",
      "_________________________________________________________________\n",
      " Layer (type)                Output Shape              Param #   \n",
      "=================================================================\n",
      " dense_5 (Dense)             (None, 1024)              3072      \n",
      "                                                                 \n",
      " dense_6 (Dense)             (None, 1024)              1049600   \n",
      "                                                                 \n",
      " dense_7 (Dense)             (None, 1)                 1025      \n",
      "                                                                 \n",
      "=================================================================\n",
      "Total params: 1,053,697\n",
      "Trainable params: 1,053,697\n",
      "Non-trainable params: 0\n",
      "_________________________________________________________________\n"
     ]
    }
   ],
   "source": [
    "Dense = tf.keras.layers.Dense\n",
    "fc_model = tf.keras.Sequential(\n",
    "    [\n",
    "     tf.keras.Input(shape=(2,)),\n",
    "     Dense(1024, activation=tf.nn.relu),\n",
    "     Dense(1024, activation=tf.nn.relu),\n",
    "     Dense(1, activation=None)])\n",
    "fc_model.summary()"
   ]
  },
  {
   "cell_type": "code",
   "execution_count": 38,
   "metadata": {
    "colab": {
     "base_uri": "https://localhost:8080/",
     "height": 255
    },
    "colab_type": "code",
    "id": "bbKsmK8wIFTp",
    "outputId": "a4f49baa-1087-4d2d-b00e-2c8349c51086"
   },
   "outputs": [],
   "source": [
    "'''tn_model = tf.keras.Sequential(\n",
    "    [\n",
    "     tf.keras.Input(shape=(2,)),\n",
    "     Dense(1024, activation=tf.nn.relu),\n",
    "     # Here, we replace the dense layer with our MPS.\n",
    "     TNLayer(),\n",
    "     Dense(1, activation=None)])\n",
    "tn_model.summary()'''\n",
    "\n",
    "tn_model=TNLayer()"
   ]
  },
  {
   "cell_type": "markdown",
   "metadata": {
    "colab_type": "text",
    "id": "GWwoYp0WnsLA"
   },
   "source": [
    "# Training a model\n",
    "\n",
    "You can train the TN model just as you would a normal neural network model! Here, we give an example of how to do it in Keras."
   ]
  },
  {
   "cell_type": "code",
   "execution_count": 44,
   "metadata": {
    "colab": {},
    "colab_type": "code",
    "id": "qDFzOC7sDBJ-"
   },
   "outputs": [],
   "source": [
    "X = torch.tensor(np.concatenate([np.random.randn(20, 2) + np.array([3, 3]),\n",
    "                    np.random.randn(20, 2) + np.array([-3, -3]),\n",
    "                    np.random.randn(20, 2) + np.array([-3, 3]),\n",
    "                    np.random.randn(20, 2) + np.array([3, -3])]))\n",
    "\n",
    "Y = torch.tensor(np.concatenate([np.ones((40)), -np.ones((40))]))"
   ]
  },
  {
   "cell_type": "code",
   "execution_count": 49,
   "metadata": {
    "colab": {
     "base_uri": "https://localhost:8080/",
     "height": 1000
    },
    "colab_type": "code",
    "id": "crc0q1vbIyTj",
    "outputId": "863fb1d3-c2cd-44e6-bca4-919955ce8868"
   },
   "outputs": [
    {
     "ename": "TypeError",
     "evalue": "forward() missing 1 required positional argument: 'input_vec'",
     "output_type": "error",
     "traceback": [
      "\u001b[0;31m---------------------------------------------------------------------------\u001b[0m",
      "\u001b[0;31mTypeError\u001b[0m                                 Traceback (most recent call last)",
      "\u001b[0;32m/tmp/ipykernel_31733/983382916.py\u001b[0m in \u001b[0;36m<module>\u001b[0;34m\u001b[0m\n\u001b[1;32m      8\u001b[0m \u001b[0;32mfor\u001b[0m \u001b[0m_\u001b[0m \u001b[0;32min\u001b[0m \u001b[0mrange\u001b[0m\u001b[0;34m(\u001b[0m\u001b[0;36m10\u001b[0m\u001b[0;34m)\u001b[0m\u001b[0;34m:\u001b[0m\u001b[0;34m\u001b[0m\u001b[0;34m\u001b[0m\u001b[0m\n\u001b[1;32m      9\u001b[0m \u001b[0;34m\u001b[0m\u001b[0m\n\u001b[0;32m---> 10\u001b[0;31m     \u001b[0moutput\u001b[0m \u001b[0;34m=\u001b[0m \u001b[0mloss\u001b[0m\u001b[0;34m(\u001b[0m\u001b[0mtn_model\u001b[0m\u001b[0;34m(\u001b[0m\u001b[0;34m)\u001b[0m\u001b[0;34m,\u001b[0m \u001b[0mtarget\u001b[0m\u001b[0;34m)\u001b[0m\u001b[0;34m\u001b[0m\u001b[0;34m\u001b[0m\u001b[0m\n\u001b[0m\u001b[1;32m     11\u001b[0m     \u001b[0moptimiser\u001b[0m\u001b[0;34m.\u001b[0m\u001b[0mzero_grad\u001b[0m\u001b[0;34m(\u001b[0m\u001b[0;34m)\u001b[0m\u001b[0;34m\u001b[0m\u001b[0;34m\u001b[0m\u001b[0m\n\u001b[1;32m     12\u001b[0m     \u001b[0moutput\u001b[0m\u001b[0;34m.\u001b[0m\u001b[0mbackward\u001b[0m\u001b[0;34m(\u001b[0m\u001b[0;34m)\u001b[0m\u001b[0;34m\u001b[0m\u001b[0;34m\u001b[0m\u001b[0m\n",
      "\u001b[0;32m~/anaconda3/lib/python3.9/site-packages/torch/nn/modules/module.py\u001b[0m in \u001b[0;36m_call_impl\u001b[0;34m(self, *input, **kwargs)\u001b[0m\n\u001b[1;32m   1100\u001b[0m         if not (self._backward_hooks or self._forward_hooks or self._forward_pre_hooks or _global_backward_hooks\n\u001b[1;32m   1101\u001b[0m                 or _global_forward_hooks or _global_forward_pre_hooks):\n\u001b[0;32m-> 1102\u001b[0;31m             \u001b[0;32mreturn\u001b[0m \u001b[0mforward_call\u001b[0m\u001b[0;34m(\u001b[0m\u001b[0;34m*\u001b[0m\u001b[0minput\u001b[0m\u001b[0;34m,\u001b[0m \u001b[0;34m**\u001b[0m\u001b[0mkwargs\u001b[0m\u001b[0;34m)\u001b[0m\u001b[0;34m\u001b[0m\u001b[0;34m\u001b[0m\u001b[0m\n\u001b[0m\u001b[1;32m   1103\u001b[0m         \u001b[0;31m# Do not call functions when jit is used\u001b[0m\u001b[0;34m\u001b[0m\u001b[0;34m\u001b[0m\u001b[0m\n\u001b[1;32m   1104\u001b[0m         \u001b[0mfull_backward_hooks\u001b[0m\u001b[0;34m,\u001b[0m \u001b[0mnon_full_backward_hooks\u001b[0m \u001b[0;34m=\u001b[0m \u001b[0;34m[\u001b[0m\u001b[0;34m]\u001b[0m\u001b[0;34m,\u001b[0m \u001b[0;34m[\u001b[0m\u001b[0;34m]\u001b[0m\u001b[0;34m\u001b[0m\u001b[0;34m\u001b[0m\u001b[0m\n",
      "\u001b[0;31mTypeError\u001b[0m: forward() missing 1 required positional argument: 'input_vec'"
     ]
    }
   ],
   "source": [
    "'''tn_model.compile(optimizer=\"adam\", loss=\"mean_squared_error\")\n",
    "tn_model.fit(X, Y, epochs=300, verbose=1)'''\n",
    "\n",
    "optimiser = torch.optim.Adam(tn_model.parameters(), lr=0.01)\n",
    "objective = torch.FloatTensor([0, 0, 1])\n",
    "loss = nn.MSELoss()\n",
    "#tn_model(Y)\n",
    "for _ in range(10):\n",
    "\n",
    "    output = loss(tn_model(), Y)\n",
    "    optimiser.zero_grad()\n",
    "    output.backward()\n",
    "    optimiser.step()"
   ]
  },
  {
   "cell_type": "code",
   "execution_count": 30,
   "metadata": {
    "colab": {
     "base_uri": "https://localhost:8080/",
     "height": 265
    },
    "colab_type": "code",
    "id": "n-aNP4n3sqG_",
    "outputId": "1c42b67a-5d5f-491c-845b-e964129d6714"
   },
   "outputs": [
    {
     "data": {
      "text/plain": [
       "<matplotlib.collections.PathCollection at 0x7f5c4bdcdbe0>"
      ]
     },
     "execution_count": 30,
     "metadata": {
      "tags": []
     },
     "output_type": "execute_result"
    },
    {
     "data": {
      "image/png": "[encoded data removed]",
      "text/plain": [
       "<Figure size 432x288 with 1 Axes>"
      ]
     },
     "metadata": {
      "tags": []
     },
     "output_type": "display_data"
    }
   ],
   "source": [
    "# Plotting code, feel free to ignore.\n",
    "h = 1.0\n",
    "x_min, x_max = X[:, 0].min() - 5, X[:, 0].max() + 5\n",
    "y_min, y_max = X[:, 1].min() - 5, X[:, 1].max() + 5\n",
    "xx, yy = np.meshgrid(np.arange(x_min, x_max, h),\n",
    "                     np.arange(y_min, y_max, h))\n",
    "\n",
    "# here \"model\" is your model's prediction (classification) function\n",
    "Z = tn_model.predict(np.c_[xx.ravel(), yy.ravel()])\n",
    "\n",
    "# Put the result into a color plot\n",
    "Z = Z.reshape(xx.shape)\n",
    "plt.contourf(xx, yy, Z)\n",
    "plt.axis('off')\n",
    "\n",
    "# Plot also the training points\n",
    "plt.scatter(X[:, 0], X[:, 1], c=Y, cmap=plt.cm.Paired)"
   ]
  },
  {
   "cell_type": "markdown",
   "metadata": {
    "colab_type": "text",
    "id": "BMxSJo5gtOmQ"
   },
   "source": [
    "# VS Fully Connected"
   ]
  },
  {
   "cell_type": "code",
   "execution_count": 31,
   "metadata": {
    "colab": {
     "base_uri": "https://localhost:8080/",
     "height": 265
    },
    "colab_type": "code",
    "id": "NKQx7stYswzU",
    "outputId": "53794514-0b80-4f67-8596-bfd87bb173c1"
   },
   "outputs": [
    {
     "data": {
      "text/plain": [
       "<matplotlib.collections.PathCollection at 0x7f5c4bbec390>"
      ]
     },
     "execution_count": 31,
     "metadata": {
      "tags": []
     },
     "output_type": "execute_result"
    },
    {
     "data": {
      "image/png": "[encoded data removed]",
      "text/plain": [
       "<Figure size 432x288 with 1 Axes>"
      ]
     },
     "metadata": {
      "tags": []
     },
     "output_type": "display_data"
    }
   ],
   "source": [
    "fc_model.compile(optimizer=\"adam\", loss=\"mean_squared_error\")\n",
    "fc_model.fit(X, Y, epochs=300, verbose=0)\n",
    "# Plotting code, feel free to ignore.\n",
    "h = 1.0\n",
    "x_min, x_max = X[:, 0].min() - 5, X[:, 0].max() + 5\n",
    "y_min, y_max = X[:, 1].min() - 5, X[:, 1].max() + 5\n",
    "xx, yy = np.meshgrid(np.arange(x_min, x_max, h),\n",
    "                     np.arange(y_min, y_max, h))\n",
    "\n",
    "# here \"model\" is your model's prediction (classification) function\n",
    "Z = fc_model.predict(np.c_[xx.ravel(), yy.ravel()])\n",
    "\n",
    "# Put the result into a color plot\n",
    "Z = Z.reshape(xx.shape)\n",
    "plt.contourf(xx, yy, Z)\n",
    "plt.axis('off')\n",
    "\n",
    "# Plot also the training points\n",
    "plt.scatter(X[:, 0], X[:, 1], c=Y, cmap=plt.cm.Paired)"
   ]
  }
 ],
 "metadata": {
  "colab": {
   "collapsed_sections": [],
   "name": "Tensor Networks in Neural Networks",
   "provenance": []
  },
  "kernelspec": {
   "display_name": "Python 3 (ipykernel)",
   "language": "python",
   "name": "python3"
  },
  "language_info": {
   "codemirror_mode": {
    "name": "ipython",
    "version": 3
   },
   "file_extension": ".py",
   "mimetype": "text/x-python",
   "name": "python",
   "nbconvert_exporter": "python",
   "pygments_lexer": "ipython3",
   "version": "3.9.7"
  }
 },
 "nbformat": 4,
 "nbformat_minor": 1
}
